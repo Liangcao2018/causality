{
 "cells": [
  {
   "cell_type": "code",
   "execution_count": 1,
   "metadata": {
    "collapsed": true
   },
   "outputs": [],
   "source": [
    "from IPython.display import Image\n"
   ]
  },
  {
   "cell_type": "code",
   "execution_count": null,
   "metadata": {
    "collapsed": true
   },
   "outputs": [],
   "source": [
    "def test_conditional_independence(self, X, Y, Zs=[]):\n",
    "    \"\"\"Chi-square conditional independence test.\n",
    "    Tests the null hypothesis that X is independent from Y given Zs.\n",
    "\n",
    "    This is done by comparing the observed frequencies with the expected\n",
    "    frequencies if X,Y were conditionally independent, using a chisquare\n",
    "    deviance statistic. The expected frequencies given independence are\n",
    "    `P(X,Y,Zs) = P(X|Zs)*P(Y|Zs)*P(Zs)`. The latter term can be computed\n",
    "    as `P(X,Zs)*P(Y,Zs)/P(Zs).\n",
    "\n",
    "    Parameters\n",
    "    ----------\n",
    "    X: int, string, hashable object\n",
    "        A variable name contained in the data set\n",
    "    Y: int, string, hashable object\n",
    "        A variable name contained in the data set, different from X\n",
    "    Zs: list of variable names\n",
    "        A list of variable names contained in the data set, different from X and Y.\n",
    "        This is the separating set that (potentially) makes X and Y independent.\n",
    "        Default: []\n",
    "\n",
    "    Returns\n",
    "    -------\n",
    "    chi2: float\n",
    "        The chi2 test statistic.\n",
    "    p_value: float\n",
    "        The p_value, i.e. the probability of observing the computed chi2\n",
    "        statistic (or an even higher value), given the null hypothesis\n",
    "        that X _|_ Y | Zs.\n",
    "    sufficient_data: bool\n",
    "        A flag that indicates if the sample size is considered sufficient.\n",
    "        As in [4], require at least 5 samples per parameter (on average).\n",
    "        That is, the size of the data set must be greater than\n",
    "        `5 * (c(X) - 1) * (c(Y) - 1) * prod([c(Z) for Z in Zs])`\n",
    "        (c() denotes the variable cardinality).\n",
    "\n",
    "\n",
    "    References\n",
    "    ----------\n",
    "    [1] Koller & Friedman, Probabilistic Graphical Models - Principles and Techniques, 2009\n",
    "    Section 18.2.2.3 (page 789)\n",
    "    [2] Neapolitan, Learning Bayesian Networks, Section 10.3 (page 600ff)\n",
    "        http://www.cs.technion.ac.il/~dang/books/Learning%20Bayesian%20Networks(Neapolitan,%20Richard).pdf\n",
    "    [3] Chi-square test https://en.wikipedia.org/wiki/Pearson%27s_chi-squared_test#Test_of_independence\n",
    "    [4] Tsamardinos et al., The max-min hill-climbing BN structure learning algorithm, 2005, Section 4\n",
    "\n",
    "    Examples\n",
    "    --------\n",
    "    >>> import pandas as pd\n",
    "    >>> import numpy as np\n",
    "    >>> from pgmpy.estimators import ConstraintBasedEstimator\n",
    "    >>> data = pd.DataFrame(np.random.randint(0, 2, size=(50000, 4)), columns=list('ABCD'))\n",
    "    >>> data['E'] = data['A'] + data['B'] + data['C']\n",
    "    >>> c = ConstraintBasedEstimator(data)\n",
    "    >>> print(c.test_conditional_independence('A', 'C'))  # independent\n",
    "    (0.95035644482050263, 0.8132617142699442, True)\n",
    "    >>> print(c.test_conditional_independence('A', 'B', 'D'))  # independent\n",
    "    (5.5227461320130899, 0.59644169242588885, True)\n",
    "    >>> print(c.test_conditional_independence('A', 'B', ['D', 'E']))  # dependent\n",
    "    (9192.5172226063387, 0.0, True)\n",
    "    \"\"\"\n",
    "\n",
    "    if isinstance(Zs, (frozenset, list, set, tuple,)):\n",
    "        Zs = list(Zs)\n",
    "    else:\n",
    "        Zs = [Zs]\n",
    "\n",
    "    num_params = ((len(self.state_names[X])-1) *\n",
    "                  (len(self.state_names[Y])-1) *\n",
    "                  np.prod([len(self.state_names[Z]) for Z in Zs]))\n",
    "    sufficient_data = len(self.data) >= num_params * 5\n",
    "    if not sufficient_data:\n",
    "        warn(\"Insufficient data for testing {0} _|_ {1} | {2}. \".format(X, Y, Zs) +\n",
    "             \"At least {0} samples recommended, {1} present.\".format(5 * num_params, len(self.data)))\n",
    "\n",
    "    # compute actual frequency/state_count table:\n",
    "    # = P(X,Y,Zs)\n",
    "    XYZ_state_counts = pd.crosstab(index=self.data[X],\n",
    "                                   columns=[self.data[Y]] + [self.data[Z] for Z in Zs])\n",
    "    # reindex to add missing rows & columns (if some values don't appear in data)\n",
    "    row_index = self.state_names[X]\n",
    "    column_index = pd.MultiIndex.from_product(\n",
    "                        [self.state_names[Y]] + [self.state_names[Z] for Z in Zs], names=[Y]+Zs)\n",
    "    XYZ_state_counts = XYZ_state_counts.reindex(index=row_index,    columns=column_index).fillna(0)\n",
    "\n",
    "    # compute the expected frequency/state_count table if X _|_ Y | Zs:\n",
    "    # = P(X|Zs)*P(Y|Zs)*P(Zs) = P(X,Zs)*P(Y,Zs)/P(Zs)\n",
    "    if Zs:\n",
    "        XZ_state_counts = XYZ_state_counts.sum(axis=1, level=Zs)  # marginalize out Y\n",
    "        YZ_state_counts = XYZ_state_counts.sum().unstack(Zs)      # marginalize out X\n",
    "    else:\n",
    "        XZ_state_counts = XYZ_state_counts.sum(axis=1)\n",
    "        YZ_state_counts = XYZ_state_counts.sum()\n",
    "    Z_state_counts = YZ_state_counts.sum()  # marginalize out both\n",
    "\n",
    "    XYZ_expected = pd.DataFrame(index=XYZ_state_counts.index, columns=XYZ_state_counts.columns)\n",
    "    for X_val in XYZ_expected.index:\n",
    "        if Zs:\n",
    "            for Y_val in XYZ_expected.columns.levels[0]:\n",
    "                XYZ_expected.loc[X_val, Y_val] = (XZ_state_counts.loc[X_val] *\n",
    "                                                  YZ_state_counts.loc[Y_val] /\n",
    "                                                  Z_state_counts).values\n",
    "        else:\n",
    "            for Y_val in XYZ_expected.columns:\n",
    "                XYZ_expected.loc[X_val, Y_val] = (XZ_state_counts.loc[X_val] *\n",
    "                                                  YZ_state_counts.loc[Y_val] /\n",
    "                                                  float(Z_state_counts))\n",
    "\n",
    "    observed = XYZ_state_counts.values.flatten()\n",
    "    expected = XYZ_expected.fillna(0).values.flatten()\n",
    "    # remove elements where the expected value is 0;\n",
    "    # this also corrects the degrees of freedom for chisquare\n",
    "    observed, expected = zip(*((o, e) for o, e in zip(observed, expected) if not e == 0))\n",
    "\n",
    "    chi2, significance_level = chisquare(observed, expected)\n",
    "\n",
    "    return (chi2, significance_level, sufficient_data)\n"
   ]
  },
  {
   "cell_type": "markdown",
   "metadata": {},
   "source": [
    "## Generate dag and test out PCalg\n",
    "\n",
    "![Dag](img/dag-pearl.png)"
   ]
  },
  {
   "cell_type": "code",
   "execution_count": 6,
   "metadata": {
    "collapsed": true
   },
   "outputs": [],
   "source": [
    "import numpy as np \n",
    "import pandas as pd\n",
    "SAMPLE_SIZE = 10000\n",
    "\n",
    "z1 = np.random.normal(0, 1, SAMPLE_SIZE)\n",
    "z2 = np.random.uniform(0, 1, SAMPLE_SIZE)\n",
    "z3 = z1*z2 + np.random.normal(0, 1, SAMPLE_SIZE)\n",
    "\n",
    "w1 = z1**2 + np.random.normal(0, 1, SAMPLE_SIZE)\n",
    "w2 = 3 * z2 + np.random.standard_cauchy(SAMPLE_SIZE)\n",
    "\n",
    "x = w1 * z3 + np.random.lognormal(0, 1, SAMPLE_SIZE)\n",
    "w3 = x + x**3 + np.random.normal(0, 1, SAMPLE_SIZE)\n",
    "y = w3 * z3 + w2 + np.random.normal(0, 1, SAMPLE_SIZE)\n",
    "\n",
    "\n",
    "data = {'z1': z1, 'z2': z2, 'z3': z3,\n",
    "       'w1': w1, 'w2': w2, 'w3': w3,\n",
    "        'x': x, 'y': y}\n",
    "\n",
    "df = pd.DataFrame(data)"
   ]
  },
  {
   "cell_type": "code",
   "execution_count": null,
   "metadata": {
    "collapsed": true
   },
   "outputs": [],
   "source": []
  },
  {
   "cell_type": "code",
   "execution_count": 8,
   "metadata": {
    "scrolled": true
   },
   "outputs": [
    {
     "name": "stdout",
     "output_type": "stream",
     "text": [
      "\n",
      "<class 'pgmpy.base.UndirectedGraph.UndirectedGraph'>\n"
     ]
    },
    {
     "name": "stderr",
     "output_type": "stream",
     "text": [
      "/Users/jygerardy/Documents/pgmpy/venv/lib/python3.6/site-packages/pgmpy-0.1.6-py3.6.egg/pgmpy/estimators/base.py:202: UserWarning: Insufficient data for testing w1 _|_ w2 | []. At least 499900005.0 samples recommended, 10000 present.\n",
      "  \"At least {0} samples recommended, {1} present.\".format(5 * num_params, len(self.data)))\n",
      "/Users/jygerardy/Documents/pgmpy/venv/lib/python3.6/site-packages/pgmpy-0.1.6-py3.6.egg/pgmpy/estimators/base.py:235: RuntimeWarning: invalid value encountered in double_scalars\n",
      "  float(Z_state_counts))\n"
     ]
    },
    {
     "ename": "KeyboardInterrupt",
     "evalue": "",
     "output_type": "error",
     "traceback": [
      "\u001b[0;31m---------------------------------------------------------------------------\u001b[0m",
      "\u001b[0;31mKeyboardInterrupt\u001b[0m                         Traceback (most recent call last)",
      "\u001b[0;32m<ipython-input-8-ced1304e7f17>\u001b[0m in \u001b[0;36m<module>\u001b[0;34m()\u001b[0m\n\u001b[1;32m      1\u001b[0m \u001b[0;32mfrom\u001b[0m \u001b[0mpgmpy\u001b[0m\u001b[0;34m.\u001b[0m\u001b[0mestimators\u001b[0m \u001b[0;32mimport\u001b[0m \u001b[0mConstraintBasedEstimator\u001b[0m\u001b[0;34m\u001b[0m\u001b[0m\n\u001b[1;32m      2\u001b[0m \u001b[0mest\u001b[0m \u001b[0;34m=\u001b[0m \u001b[0mConstraintBasedEstimator\u001b[0m\u001b[0;34m(\u001b[0m\u001b[0mdf\u001b[0m\u001b[0;34m)\u001b[0m\u001b[0;34m\u001b[0m\u001b[0m\n\u001b[0;32m----> 3\u001b[0;31m \u001b[0mskel\u001b[0m\u001b[0;34m,\u001b[0m \u001b[0msep_sets\u001b[0m \u001b[0;34m=\u001b[0m \u001b[0mest\u001b[0m\u001b[0;34m.\u001b[0m\u001b[0mestimate_skeleton\u001b[0m\u001b[0;34m(\u001b[0m\u001b[0;34m)\u001b[0m\u001b[0;34m\u001b[0m\u001b[0m\n\u001b[0m\u001b[1;32m      4\u001b[0m \u001b[0;34m\u001b[0m\u001b[0m\n",
      "\u001b[0;32m~/Documents/pgmpy/venv/lib/python3.6/site-packages/pgmpy-0.1.6-py3.6.egg/pgmpy/estimators/ConstraintBasedEstimator.py\u001b[0m in \u001b[0;36mestimate_skeleton\u001b[0;34m(self, significance_level)\u001b[0m\n\u001b[1;32m    180\u001b[0m             \u001b[0;32mreturn\u001b[0m \u001b[0mp_value\u001b[0m \u001b[0;34m>=\u001b[0m \u001b[0msignificance_level\u001b[0m\u001b[0;34m\u001b[0m\u001b[0m\n\u001b[1;32m    181\u001b[0m \u001b[0;34m\u001b[0m\u001b[0m\n\u001b[0;32m--> 182\u001b[0;31m         \u001b[0;32mreturn\u001b[0m \u001b[0mself\u001b[0m\u001b[0;34m.\u001b[0m\u001b[0mbuild_skeleton\u001b[0m\u001b[0;34m(\u001b[0m\u001b[0mnodes\u001b[0m\u001b[0;34m,\u001b[0m \u001b[0mis_independent\u001b[0m\u001b[0;34m)\u001b[0m\u001b[0;34m\u001b[0m\u001b[0m\n\u001b[0m\u001b[1;32m    183\u001b[0m \u001b[0;34m\u001b[0m\u001b[0m\n\u001b[1;32m    184\u001b[0m     \u001b[0;34m@\u001b[0m\u001b[0mstaticmethod\u001b[0m\u001b[0;34m\u001b[0m\u001b[0m\n",
      "\u001b[0;32m~/Documents/pgmpy/venv/lib/python3.6/site-packages/pgmpy-0.1.6-py3.6.egg/pgmpy/estimators/ConstraintBasedEstimator.py\u001b[0m in \u001b[0;36mbuild_skeleton\u001b[0;34m(nodes, independencies)\u001b[0m\n\u001b[1;32m    531\u001b[0m                     \u001b[0;31m# that makes X and Y independent:\u001b[0m\u001b[0;34m\u001b[0m\u001b[0;34m\u001b[0m\u001b[0m\n\u001b[1;32m    532\u001b[0m                     \u001b[0;32mfor\u001b[0m \u001b[0mseparating_set\u001b[0m \u001b[0;32min\u001b[0m \u001b[0mcombinations\u001b[0m\u001b[0;34m(\u001b[0m\u001b[0mset\u001b[0m\u001b[0;34m(\u001b[0m\u001b[0mgraph\u001b[0m\u001b[0;34m.\u001b[0m\u001b[0mneighbors\u001b[0m\u001b[0;34m(\u001b[0m\u001b[0mnode\u001b[0m\u001b[0;34m)\u001b[0m\u001b[0;34m)\u001b[0m \u001b[0;34m-\u001b[0m \u001b[0mset\u001b[0m\u001b[0;34m(\u001b[0m\u001b[0;34m[\u001b[0m\u001b[0mneighbor\u001b[0m\u001b[0;34m]\u001b[0m\u001b[0;34m)\u001b[0m\u001b[0;34m,\u001b[0m \u001b[0mlim_neighbors\u001b[0m\u001b[0;34m)\u001b[0m\u001b[0;34m:\u001b[0m\u001b[0;34m\u001b[0m\u001b[0m\n\u001b[0;32m--> 533\u001b[0;31m                         \u001b[0;32mif\u001b[0m \u001b[0mis_independent\u001b[0m\u001b[0;34m(\u001b[0m\u001b[0mnode\u001b[0m\u001b[0;34m,\u001b[0m \u001b[0mneighbor\u001b[0m\u001b[0;34m,\u001b[0m \u001b[0mseparating_set\u001b[0m\u001b[0;34m)\u001b[0m\u001b[0;34m:\u001b[0m\u001b[0;34m\u001b[0m\u001b[0m\n\u001b[0m\u001b[1;32m    534\u001b[0m                             separating_sets[frozenset(\n\u001b[1;32m    535\u001b[0m                                 (node, neighbor))] = separating_set\n",
      "\u001b[0;32m~/Documents/pgmpy/venv/lib/python3.6/site-packages/pgmpy-0.1.6-py3.6.egg/pgmpy/estimators/ConstraintBasedEstimator.py\u001b[0m in \u001b[0;36mis_independent\u001b[0;34m(X, Y, Zs)\u001b[0m\n\u001b[1;32m    177\u001b[0m             \"\"\"\n\u001b[1;32m    178\u001b[0m             chi2, p_value, sufficient_data = self.test_conditional_independence(\n\u001b[0;32m--> 179\u001b[0;31m                 X, Y, Zs)\n\u001b[0m\u001b[1;32m    180\u001b[0m             \u001b[0;32mreturn\u001b[0m \u001b[0mp_value\u001b[0m \u001b[0;34m>=\u001b[0m \u001b[0msignificance_level\u001b[0m\u001b[0;34m\u001b[0m\u001b[0m\n\u001b[1;32m    181\u001b[0m \u001b[0;34m\u001b[0m\u001b[0m\n",
      "\u001b[0;32m~/Documents/pgmpy/venv/lib/python3.6/site-packages/pgmpy-0.1.6-py3.6.egg/pgmpy/estimators/base.py\u001b[0m in \u001b[0;36mtest_conditional_independence\u001b[0;34m(self, X, Y, Zs)\u001b[0m\n\u001b[1;32m    233\u001b[0m                     XYZ_expected.loc[X_val, Y_val] = (XZ_state_counts.loc[X_val] *\n\u001b[1;32m    234\u001b[0m                                                       \u001b[0mYZ_state_counts\u001b[0m\u001b[0;34m.\u001b[0m\u001b[0mloc\u001b[0m\u001b[0;34m[\u001b[0m\u001b[0mY_val\u001b[0m\u001b[0;34m]\u001b[0m \u001b[0;34m/\u001b[0m\u001b[0;34m\u001b[0m\u001b[0m\n\u001b[0;32m--> 235\u001b[0;31m                                                       float(Z_state_counts))\n\u001b[0m\u001b[1;32m    236\u001b[0m \u001b[0;34m\u001b[0m\u001b[0m\n\u001b[1;32m    237\u001b[0m         \u001b[0mobserved\u001b[0m \u001b[0;34m=\u001b[0m \u001b[0mXYZ_state_counts\u001b[0m\u001b[0;34m.\u001b[0m\u001b[0mvalues\u001b[0m\u001b[0;34m.\u001b[0m\u001b[0mflatten\u001b[0m\u001b[0;34m(\u001b[0m\u001b[0;34m)\u001b[0m\u001b[0;34m\u001b[0m\u001b[0m\n",
      "\u001b[0;32m~/Documents/pgmpy/venv/lib/python3.6/site-packages/pandas/core/indexing.py\u001b[0m in \u001b[0;36m__setitem__\u001b[0;34m(self, key, value)\u001b[0m\n\u001b[1;32m    192\u001b[0m             \u001b[0mkey\u001b[0m \u001b[0;34m=\u001b[0m \u001b[0mcom\u001b[0m\u001b[0;34m.\u001b[0m\u001b[0m_apply_if_callable\u001b[0m\u001b[0;34m(\u001b[0m\u001b[0mkey\u001b[0m\u001b[0;34m,\u001b[0m \u001b[0mself\u001b[0m\u001b[0;34m.\u001b[0m\u001b[0mobj\u001b[0m\u001b[0;34m)\u001b[0m\u001b[0;34m\u001b[0m\u001b[0m\n\u001b[1;32m    193\u001b[0m         \u001b[0mindexer\u001b[0m \u001b[0;34m=\u001b[0m \u001b[0mself\u001b[0m\u001b[0;34m.\u001b[0m\u001b[0m_get_setitem_indexer\u001b[0m\u001b[0;34m(\u001b[0m\u001b[0mkey\u001b[0m\u001b[0;34m)\u001b[0m\u001b[0;34m\u001b[0m\u001b[0m\n\u001b[0;32m--> 194\u001b[0;31m         \u001b[0mself\u001b[0m\u001b[0;34m.\u001b[0m\u001b[0m_setitem_with_indexer\u001b[0m\u001b[0;34m(\u001b[0m\u001b[0mindexer\u001b[0m\u001b[0;34m,\u001b[0m \u001b[0mvalue\u001b[0m\u001b[0;34m)\u001b[0m\u001b[0;34m\u001b[0m\u001b[0m\n\u001b[0m\u001b[1;32m    195\u001b[0m \u001b[0;34m\u001b[0m\u001b[0m\n\u001b[1;32m    196\u001b[0m     \u001b[0;32mdef\u001b[0m \u001b[0m_has_valid_type\u001b[0m\u001b[0;34m(\u001b[0m\u001b[0mself\u001b[0m\u001b[0;34m,\u001b[0m \u001b[0mk\u001b[0m\u001b[0;34m,\u001b[0m \u001b[0maxis\u001b[0m\u001b[0;34m)\u001b[0m\u001b[0;34m:\u001b[0m\u001b[0;34m\u001b[0m\u001b[0m\n",
      "\u001b[0;32m~/Documents/pgmpy/venv/lib/python3.6/site-packages/pandas/core/indexing.py\u001b[0m in \u001b[0;36m_setitem_with_indexer\u001b[0;34m(self, indexer, value)\u001b[0m\n\u001b[1;32m    637\u001b[0m             \u001b[0mself\u001b[0m\u001b[0;34m.\u001b[0m\u001b[0mobj\u001b[0m\u001b[0;34m.\u001b[0m\u001b[0m_consolidate_inplace\u001b[0m\u001b[0;34m(\u001b[0m\u001b[0;34m)\u001b[0m\u001b[0;34m\u001b[0m\u001b[0m\n\u001b[1;32m    638\u001b[0m             self.obj._data = self.obj._data.setitem(indexer=indexer,\n\u001b[0;32m--> 639\u001b[0;31m                                                     value=value)\n\u001b[0m\u001b[1;32m    640\u001b[0m             \u001b[0mself\u001b[0m\u001b[0;34m.\u001b[0m\u001b[0mobj\u001b[0m\u001b[0;34m.\u001b[0m\u001b[0m_maybe_update_cacher\u001b[0m\u001b[0;34m(\u001b[0m\u001b[0mclear\u001b[0m\u001b[0;34m=\u001b[0m\u001b[0;32mTrue\u001b[0m\u001b[0;34m)\u001b[0m\u001b[0;34m\u001b[0m\u001b[0m\n\u001b[1;32m    641\u001b[0m \u001b[0;34m\u001b[0m\u001b[0m\n",
      "\u001b[0;32m~/Documents/pgmpy/venv/lib/python3.6/site-packages/pandas/core/internals.py\u001b[0m in \u001b[0;36msetitem\u001b[0;34m(self, **kwargs)\u001b[0m\n\u001b[1;32m   3439\u001b[0m \u001b[0;34m\u001b[0m\u001b[0m\n\u001b[1;32m   3440\u001b[0m     \u001b[0;32mdef\u001b[0m \u001b[0msetitem\u001b[0m\u001b[0;34m(\u001b[0m\u001b[0mself\u001b[0m\u001b[0;34m,\u001b[0m \u001b[0;34m**\u001b[0m\u001b[0mkwargs\u001b[0m\u001b[0;34m)\u001b[0m\u001b[0;34m:\u001b[0m\u001b[0;34m\u001b[0m\u001b[0m\n\u001b[0;32m-> 3441\u001b[0;31m         \u001b[0;32mreturn\u001b[0m \u001b[0mself\u001b[0m\u001b[0;34m.\u001b[0m\u001b[0mapply\u001b[0m\u001b[0;34m(\u001b[0m\u001b[0;34m'setitem'\u001b[0m\u001b[0;34m,\u001b[0m \u001b[0;34m**\u001b[0m\u001b[0mkwargs\u001b[0m\u001b[0;34m)\u001b[0m\u001b[0;34m\u001b[0m\u001b[0m\n\u001b[0m\u001b[1;32m   3442\u001b[0m \u001b[0;34m\u001b[0m\u001b[0m\n\u001b[1;32m   3443\u001b[0m     \u001b[0;32mdef\u001b[0m \u001b[0mputmask\u001b[0m\u001b[0;34m(\u001b[0m\u001b[0mself\u001b[0m\u001b[0;34m,\u001b[0m \u001b[0;34m**\u001b[0m\u001b[0mkwargs\u001b[0m\u001b[0;34m)\u001b[0m\u001b[0;34m:\u001b[0m\u001b[0;34m\u001b[0m\u001b[0m\n",
      "\u001b[0;32m~/Documents/pgmpy/venv/lib/python3.6/site-packages/pandas/core/internals.py\u001b[0m in \u001b[0;36mapply\u001b[0;34m(self, f, axes, filter, do_integrity_check, consolidate, **kwargs)\u001b[0m\n\u001b[1;32m   3327\u001b[0m \u001b[0;34m\u001b[0m\u001b[0m\n\u001b[1;32m   3328\u001b[0m             \u001b[0mkwargs\u001b[0m\u001b[0;34m[\u001b[0m\u001b[0;34m'mgr'\u001b[0m\u001b[0;34m]\u001b[0m \u001b[0;34m=\u001b[0m \u001b[0mself\u001b[0m\u001b[0;34m\u001b[0m\u001b[0m\n\u001b[0;32m-> 3329\u001b[0;31m             \u001b[0mapplied\u001b[0m \u001b[0;34m=\u001b[0m \u001b[0mgetattr\u001b[0m\u001b[0;34m(\u001b[0m\u001b[0mb\u001b[0m\u001b[0;34m,\u001b[0m \u001b[0mf\u001b[0m\u001b[0;34m)\u001b[0m\u001b[0;34m(\u001b[0m\u001b[0;34m**\u001b[0m\u001b[0mkwargs\u001b[0m\u001b[0;34m)\u001b[0m\u001b[0;34m\u001b[0m\u001b[0m\n\u001b[0m\u001b[1;32m   3330\u001b[0m             \u001b[0mresult_blocks\u001b[0m \u001b[0;34m=\u001b[0m \u001b[0m_extend_blocks\u001b[0m\u001b[0;34m(\u001b[0m\u001b[0mapplied\u001b[0m\u001b[0;34m,\u001b[0m \u001b[0mresult_blocks\u001b[0m\u001b[0;34m)\u001b[0m\u001b[0;34m\u001b[0m\u001b[0m\n\u001b[1;32m   3331\u001b[0m \u001b[0;34m\u001b[0m\u001b[0m\n",
      "\u001b[0;32m~/Documents/pgmpy/venv/lib/python3.6/site-packages/pandas/core/internals.py\u001b[0m in \u001b[0;36msetitem\u001b[0;34m(self, indexer, value, mgr)\u001b[0m\n\u001b[1;32m    902\u001b[0m \u001b[0;34m\u001b[0m\u001b[0m\n\u001b[1;32m    903\u001b[0m         \u001b[0;31m# coerce and try to infer the dtypes of the result\u001b[0m\u001b[0;34m\u001b[0m\u001b[0;34m\u001b[0m\u001b[0m\n\u001b[0;32m--> 904\u001b[0;31m         \u001b[0mvalues\u001b[0m \u001b[0;34m=\u001b[0m \u001b[0mself\u001b[0m\u001b[0;34m.\u001b[0m\u001b[0m_try_coerce_and_cast_result\u001b[0m\u001b[0;34m(\u001b[0m\u001b[0mvalues\u001b[0m\u001b[0;34m,\u001b[0m \u001b[0mdtype\u001b[0m\u001b[0;34m)\u001b[0m\u001b[0;34m\u001b[0m\u001b[0m\n\u001b[0m\u001b[1;32m    905\u001b[0m         \u001b[0mblock\u001b[0m \u001b[0;34m=\u001b[0m \u001b[0mself\u001b[0m\u001b[0;34m.\u001b[0m\u001b[0mmake_block\u001b[0m\u001b[0;34m(\u001b[0m\u001b[0mtransf\u001b[0m\u001b[0;34m(\u001b[0m\u001b[0mvalues\u001b[0m\u001b[0;34m)\u001b[0m\u001b[0;34m,\u001b[0m \u001b[0mfastpath\u001b[0m\u001b[0;34m=\u001b[0m\u001b[0;32mTrue\u001b[0m\u001b[0;34m)\u001b[0m\u001b[0;34m\u001b[0m\u001b[0m\n\u001b[1;32m    906\u001b[0m         \u001b[0;32mreturn\u001b[0m \u001b[0mblock\u001b[0m\u001b[0;34m\u001b[0m\u001b[0m\n",
      "\u001b[0;32m~/Documents/pgmpy/venv/lib/python3.6/site-packages/pandas/core/internals.py\u001b[0m in \u001b[0;36m_try_coerce_and_cast_result\u001b[0;34m(self, result, dtype)\u001b[0m\n\u001b[1;32m    709\u001b[0m     \u001b[0;32mdef\u001b[0m \u001b[0m_try_coerce_and_cast_result\u001b[0m\u001b[0;34m(\u001b[0m\u001b[0mself\u001b[0m\u001b[0;34m,\u001b[0m \u001b[0mresult\u001b[0m\u001b[0;34m,\u001b[0m \u001b[0mdtype\u001b[0m\u001b[0;34m=\u001b[0m\u001b[0;32mNone\u001b[0m\u001b[0;34m)\u001b[0m\u001b[0;34m:\u001b[0m\u001b[0;34m\u001b[0m\u001b[0m\n\u001b[1;32m    710\u001b[0m         \u001b[0mresult\u001b[0m \u001b[0;34m=\u001b[0m \u001b[0mself\u001b[0m\u001b[0;34m.\u001b[0m\u001b[0m_try_coerce_result\u001b[0m\u001b[0;34m(\u001b[0m\u001b[0mresult\u001b[0m\u001b[0;34m)\u001b[0m\u001b[0;34m\u001b[0m\u001b[0m\n\u001b[0;32m--> 711\u001b[0;31m         \u001b[0mresult\u001b[0m \u001b[0;34m=\u001b[0m \u001b[0mself\u001b[0m\u001b[0;34m.\u001b[0m\u001b[0m_try_cast_result\u001b[0m\u001b[0;34m(\u001b[0m\u001b[0mresult\u001b[0m\u001b[0;34m,\u001b[0m \u001b[0mdtype\u001b[0m\u001b[0;34m=\u001b[0m\u001b[0mdtype\u001b[0m\u001b[0;34m)\u001b[0m\u001b[0;34m\u001b[0m\u001b[0m\n\u001b[0m\u001b[1;32m    712\u001b[0m         \u001b[0;32mreturn\u001b[0m \u001b[0mresult\u001b[0m\u001b[0;34m\u001b[0m\u001b[0m\n\u001b[1;32m    713\u001b[0m \u001b[0;34m\u001b[0m\u001b[0m\n",
      "\u001b[0;32m~/Documents/pgmpy/venv/lib/python3.6/site-packages/pandas/core/internals.py\u001b[0m in \u001b[0;36m_try_cast_result\u001b[0;34m(self, result, dtype)\u001b[0m\n\u001b[1;32m    689\u001b[0m \u001b[0;34m\u001b[0m\u001b[0m\n\u001b[1;32m    690\u001b[0m         \u001b[0;31m# may need to change the dtype here\u001b[0m\u001b[0;34m\u001b[0m\u001b[0;34m\u001b[0m\u001b[0m\n\u001b[0;32m--> 691\u001b[0;31m         \u001b[0;32mreturn\u001b[0m \u001b[0mmaybe_downcast_to_dtype\u001b[0m\u001b[0;34m(\u001b[0m\u001b[0mresult\u001b[0m\u001b[0;34m,\u001b[0m \u001b[0mdtype\u001b[0m\u001b[0;34m)\u001b[0m\u001b[0;34m\u001b[0m\u001b[0m\n\u001b[0m\u001b[1;32m    692\u001b[0m \u001b[0;34m\u001b[0m\u001b[0m\n\u001b[1;32m    693\u001b[0m     \u001b[0;32mdef\u001b[0m \u001b[0m_try_coerce_args\u001b[0m\u001b[0;34m(\u001b[0m\u001b[0mself\u001b[0m\u001b[0;34m,\u001b[0m \u001b[0mvalues\u001b[0m\u001b[0;34m,\u001b[0m \u001b[0mother\u001b[0m\u001b[0;34m)\u001b[0m\u001b[0;34m:\u001b[0m\u001b[0;34m\u001b[0m\u001b[0m\n",
      "\u001b[0;32m~/Documents/pgmpy/venv/lib/python3.6/site-packages/pandas/core/dtypes/cast.py\u001b[0m in \u001b[0;36mmaybe_downcast_to_dtype\u001b[0;34m(result, dtype)\u001b[0m\n\u001b[1;32m     80\u001b[0m     \u001b[0;32mif\u001b[0m \u001b[0misinstance\u001b[0m\u001b[0;34m(\u001b[0m\u001b[0mdtype\u001b[0m\u001b[0;34m,\u001b[0m \u001b[0mstring_types\u001b[0m\u001b[0;34m)\u001b[0m\u001b[0;34m:\u001b[0m\u001b[0;34m\u001b[0m\u001b[0m\n\u001b[1;32m     81\u001b[0m         \u001b[0;32mif\u001b[0m \u001b[0mdtype\u001b[0m \u001b[0;34m==\u001b[0m \u001b[0;34m'infer'\u001b[0m\u001b[0;34m:\u001b[0m\u001b[0;34m\u001b[0m\u001b[0m\n\u001b[0;32m---> 82\u001b[0;31m             \u001b[0minferred_type\u001b[0m \u001b[0;34m=\u001b[0m \u001b[0mlib\u001b[0m\u001b[0;34m.\u001b[0m\u001b[0minfer_dtype\u001b[0m\u001b[0;34m(\u001b[0m\u001b[0m_ensure_object\u001b[0m\u001b[0;34m(\u001b[0m\u001b[0mresult\u001b[0m\u001b[0;34m.\u001b[0m\u001b[0mravel\u001b[0m\u001b[0;34m(\u001b[0m\u001b[0;34m)\u001b[0m\u001b[0;34m)\u001b[0m\u001b[0;34m)\u001b[0m\u001b[0;34m\u001b[0m\u001b[0m\n\u001b[0m\u001b[1;32m     83\u001b[0m             \u001b[0;32mif\u001b[0m \u001b[0minferred_type\u001b[0m \u001b[0;34m==\u001b[0m \u001b[0;34m'boolean'\u001b[0m\u001b[0;34m:\u001b[0m\u001b[0;34m\u001b[0m\u001b[0m\n\u001b[1;32m     84\u001b[0m                 \u001b[0mdtype\u001b[0m \u001b[0;34m=\u001b[0m \u001b[0;34m'bool'\u001b[0m\u001b[0;34m\u001b[0m\u001b[0m\n",
      "\u001b[0;31mKeyboardInterrupt\u001b[0m: "
     ]
    }
   ],
   "source": [
    "from pgmpy.estimators import ConstraintBasedEstimator\n",
    "est = ConstraintBasedEstimator(df)\n",
    "skel, sep_sets = est.estimate_skeleton()\n",
    "\n",
    "\n"
   ]
  }
 ],
 "metadata": {
  "kernelspec": {
   "display_name": "venv",
   "language": "python",
   "name": "venv"
  },
  "language_info": {
   "codemirror_mode": {
    "name": "ipython",
    "version": 3
   },
   "file_extension": ".py",
   "mimetype": "text/x-python",
   "name": "python",
   "nbconvert_exporter": "python",
   "pygments_lexer": "ipython3",
   "version": "3.6.3"
  }
 },
 "nbformat": 4,
 "nbformat_minor": 2
}
