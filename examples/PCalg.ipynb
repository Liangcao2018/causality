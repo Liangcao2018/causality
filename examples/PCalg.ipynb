{
 "cells": [
  {
   "cell_type": "code",
   "execution_count": 10,
   "metadata": {
    "collapsed": true
   },
   "outputs": [],
   "source": [
    "%matplotlib inline\n",
    "from IPython.display import Image\n",
    "import matplotlib"
   ]
  },
  {
   "cell_type": "markdown",
   "metadata": {},
   "source": [
    "## Generate DAG and test out PCalg\n",
    "\n",
    "![Dag](img/dag-pearl.png)"
   ]
  },
  {
   "cell_type": "code",
   "execution_count": 36,
   "metadata": {
    "collapsed": true
   },
   "outputs": [],
   "source": [
    "import numpy as np \n",
    "import pandas as pd\n",
    "SAMPLE_SIZE = 100000\n",
    "\n",
    "z1 = np.random.normal(0, 1, SAMPLE_SIZE) #0\n",
    "z2 = np.random.uniform(0, 1, SAMPLE_SIZE) #1\n",
    "z3 = z1*z2 + np.random.normal(0, 1, SAMPLE_SIZE) #2\n",
    "\n",
    "w1 = z1 + np.random.normal(0, 1, SAMPLE_SIZE) #3\n",
    "w2 = 3 ** z2 + np.random.standard_cauchy(SAMPLE_SIZE) #4\n",
    "\n",
    "x = w1 * z3 + np.random.lognormal(0, 1, SAMPLE_SIZE) #6\n",
    "w3 = x + x**3 + np.random.normal(0, 1, SAMPLE_SIZE) #5\n",
    "y = w3 * z3 + w2 + np.random.normal(0, 1, SAMPLE_SIZE) #7\n",
    "\n",
    "\n",
    "features = ['z1', 'z2', 'z3',\n",
    "       'w1', 'w2', 'w3',\n",
    "        'x', 'y']\n",
    "\n",
    "data = np.stack([z1,z2,z3,w1,w2,w3,x,y], axis=1)"
   ]
  },
  {
   "cell_type": "code",
   "execution_count": 32,
   "metadata": {
    "collapsed": true
   },
   "outputs": [],
   "source": [
    "#FCIT(x, y, Z=np.array())\n",
    "x = data[:,0].reshape(SAMPLE_SIZE, 1)\n",
    "y = data[:,1].reshape(SAMPLE_SIZE, 1)\n",
    "z = data[:,2].reshape(SAMPLE_SIZE, 1)\n",
    "#z = data[:,()]\n"
   ]
  },
  {
   "cell_type": "code",
   "execution_count": 33,
   "metadata": {
    "collapsed": true
   },
   "outputs": [],
   "source": [
    "l = [FCIT(x,y,z) for i in range(10)]\n"
   ]
  },
  {
   "cell_type": "markdown",
   "metadata": {},
   "source": [
    "# Utils"
   ]
  },
  {
   "cell_type": "code",
   "execution_count": 13,
   "metadata": {
    "collapsed": true
   },
   "outputs": [],
   "source": [
    "import numpy as np\n",
    "import functools\n",
    "\n",
    "def check_dataset(dataset):\n",
    "    assert isinstance(dataset, np.ndarray),(\n",
    "        'Dataset must be a 2D numpy array')\n",
    "    assert dataset.shape[1] >= 2,(\n",
    "        'Need at leat 2 variables: shape is {}'.format(dataset.shape))\n",
    "    return dataset\n",
    "    \n",
    "\n",
    "def get_features(dataset, feature_names=None):\n",
    "    if feature_names:\n",
    "        len_condition = len(feature_names) == dataset.shape[1]\n",
    "        assert isinstance(feature_names, list) and len_condition,\\\n",
    "            \"number of elements in feature_names\\\n",
    "        and number of features in dataset do not match\"\n",
    "        return {k: v for k, v in enumerate(feature_names)}\n",
    "\n",
    "    return {k: v for k, v in enumerate(range(dataset.shape[1]))}\n",
    "\n",
    "\n",
    "def trackcalls(func):\n",
    "    @functools.wraps(func)\n",
    "    def wrapper(*args, **kwargs):\n",
    "        wrapper.has_been_called = True\n",
    "        return func(*args, **kwargs)\n",
    "    wrapper.has_been_called = False\n",
    "    return wrapper\n"
   ]
  },
  {
   "cell_type": "markdown",
   "metadata": {},
   "source": [
    "# PCAlg"
   ]
  },
  {
   "cell_type": "code",
   "execution_count": 48,
   "metadata": {
    "collapsed": true
   },
   "outputs": [],
   "source": [
    "import numpy as np\n",
    "#from .utils import check_dataset, get_features, trackcalls\n",
    "import networkx as nx\n",
    "from itertools import combinations, permutations\n",
    "from collections import defaultdict\n",
    "\n",
    "\n",
    "class pcalg():\n",
    "    \"\"\"\n",
    "    Peter Spirtes and Clark Glymour ALGorithm\n",
    "\n",
    "    input :\n",
    "    dataset =  N*M numpy array where N=sample\n",
    "            size and M=feature size\n",
    "\n",
    "    feature_names = dictionary where key = column\n",
    "                    position, value = column name.\n",
    "                    if no feature_names provided,\n",
    "                    key=value=column position\n",
    "\n",
    "\n",
    "    \"\"\"\n",
    "    def __init__(self, dataset, feature_names=None):\n",
    "        #self.dataset = check_dataset(dataset)\n",
    "        self.dataset = dataset\n",
    "        self.features = get_features(dataset,\n",
    "                                     feature_names)\n",
    "        self.G = nx.Graph()\n",
    "\n",
    "    def _instantiate_fully_connected_graph(self):\n",
    "        self.G.add_nodes_from(self.features.keys())\n",
    "        for x, y in combinations(self.features.keys(), 2):\n",
    "            self.G.add_edge(x, y)\n",
    "\n",
    "    #@trackcalls\n",
    "    def identify_skeleton(self, indep_test, alpha=0.05,\n",
    "                          stable=False):\n",
    "        \"\"\"\n",
    "        STEP 1 of PC algorighm\n",
    "        estimate skeleton graph from the data.\n",
    "        input :\n",
    "        indep_test = independence function\n",
    "\n",
    "        alpha = significance level for independence test\n",
    "\n",
    "        stable = use the SGS variant of the PC algorithm\n",
    "                default = false\n",
    "\n",
    "        \"\"\"\n",
    "        self._instantiate_fully_connected_graph()\n",
    "\n",
    "        self.d_separators = {}\n",
    "        self.stable = stable\n",
    "        level = 0\n",
    "        cont = True\n",
    "\n",
    "        while cont:\n",
    "            print(\"Level order: {}\".format(level))\n",
    "            cont = False\n",
    "            # in the stable version,\n",
    "            # only update neighbors at each level\n",
    "            for x, y in permutations(self.features.keys(), 2):\n",
    "                if not stable:\n",
    "                    # in the original version, update neighbors within\n",
    "                    # each level\n",
    "                    x_neighbors = list(self.G.neighbors(x))\n",
    "                if y not in x_neighbors:\n",
    "                    continue\n",
    "                x_neighbors.remove(y)\n",
    "                if len(x_neighbors) >= level:\n",
    "                    cont = True\n",
    "                    for z in combinations(x_neighbors, level):\n",
    "                        pvalue = indep_test(self.dataset[:,x].reshape(self.dataset.shape[0], 1),\n",
    "                                            self.dataset[:,y].reshape(self.dataset.shape[0], 1),\n",
    "                                            self.dataset[:,z].reshape(self.dataset.shape[0], len(z))\n",
    "                                           )\n",
    "                        print(\"\"\"Independence test between {} and {} conditioned on {}: {}\"\"\".format(\n",
    "                           self.features[x],self.features[y],[self.features[f] for f in z], pvalue))\n",
    "                        if pvalue >= alpha:\n",
    "                            print('Removed')\n",
    "                            #print(\"\"\"Remove edge between node {} and node {}, conditioned on {}. pvalue: {}\"\"\".format(\n",
    "                            #self.features[x],self.features[y],[self.features[f] for f in z], pvalue))\n",
    "                            self.G.remove_edge(x, y)\n",
    "                            self.d_separators[(x, y)] = z\n",
    "                            self.d_separators[(y, x)] = z\n",
    "                            break\n",
    "                        \n",
    "            level += 1\n",
    "\n",
    "    def orient_graph(self, indep_test, alpha):\n",
    "        \"\"\"\n",
    "        STEP 2 of the PC algorithm: edge orientation\n",
    "        \"\"\"\n",
    "        self.G = self.G.to_directed()\n",
    "\n",
    "        # STEP 1: IDENTIFYING UNSHIELDED COLLIDERS\n",
    "        # for each X and Y, only connected through\n",
    "        # a third variable (e.g. Z in X--Z--Y), test idenpendence\n",
    "        # between X and Y conditioned upon Z.\n",
    "        # If conditionally dependent, Z is an unshielded collider.\n",
    "        # Orient edges to point into Z (X->Z<-Y)\n",
    "        # Testing for conditional independence is not required when using\n",
    "        # the stable version of the PCALG(i.e. the SGS variant) because\n",
    "        # we already have all d-separators of order level 1 between X and Y\n",
    "        self.colliders = {}\n",
    "        for x, y in combinations(self.features.keys(), 2):\n",
    "            x_successors = self.G.successors(x)\n",
    "            if y in x_successors:\n",
    "                continue\n",
    "            y_successors = self.G.successors(y)\n",
    "            if x in y_successors:\n",
    "                continue\n",
    "            intersect = set(x_successors).intersection(set(y_successors))\n",
    "            for z in intersect:\n",
    "                if z in self.d_separators[(x, y)]:\n",
    "                    continue\n",
    "                if not self.stable:\n",
    "                    pvalue = indep_test(self.dataset[x],\n",
    "                                        self.dataset[y], self.dataset[z])\n",
    "                    if pvalue <= alpha:\n",
    "                        # x and y are conditionnaly dependent\n",
    "                        # so z is a collider.\n",
    "                        self.G.remove_edge(z, x)\n",
    "                        self.G.remove_edge(z, y)\n",
    "                        continue\n",
    "                else:\n",
    "                    self.G.remove_edge(z, x)\n",
    "                    self.G.remove_edge(z, y)\n",
    "\n",
    "        # STEP 2: PREVENT SPURIOUS UNSHIELDED COLLIDERS\n",
    "        # for each X Y Z such that\n",
    "        # X->Z--Y\n",
    "        # and where X and Y are not directly connected,\n",
    "        # orient the ZY edge to point into Y:\n",
    "        # X->Z->Y\n",
    "        # if  X->Z<-Y were true, Z would have been picked up\n",
    "        # as unshielded collider in STEP 1\n",
    "\n",
    "\n",
    "        #  STEP 3: PREVENT CYCLES\n",
    "        # If there is a pair of variables, X and Y connected \n",
    "        # both by an undirected edge and by a directed path,\n",
    "        # starting at X, through one or more other variables to Y,\n",
    "        # orient the undirected edge as X->Y\n",
    "\n",
    "    def render_graph(self):\n",
    "        render = nx.draw_networkx(G=self.G, labels=self.features)\n",
    "        return render\n",
    "\n",
    "    def save_class(self):\n",
    "        return\n"
   ]
  },
  {
   "cell_type": "markdown",
   "metadata": {},
   "source": [
    "## Independence Tests\n"
   ]
  },
  {
   "cell_type": "code",
   "execution_count": 29,
   "metadata": {
    "collapsed": true
   },
   "outputs": [],
   "source": [
    "import scipy\n",
    "import scipy.stats\n",
    "from fcit import fcit\n",
    "\n",
    "def resit(X, Y, Z, sklearn_model):\n",
    "    \"\"\"\n",
    "    Independently model X and Y as a\n",
    "    function of Z using models that follow\n",
    "    the sklearn fit and predict api.\n",
    "\n",
    "    Predict both X and Y and retrieve residuals.\n",
    "\n",
    "    Run unconditional independence test between\n",
    "    the residuals from the X model and the\n",
    "    residuals from the Y model.\n",
    "\n",
    "    http://jmlr.org/papers/volume15/peters14a/peters14a.pdf\n",
    "    \"\"\"\n",
    "    \n",
    "    if Z.shape[1] == 0:\n",
    "        # unconditional independence test\n",
    "        model_X = sklearn_model\n",
    "        model_x = model_X.fit(Z, X)\n",
    "        return scipy.stats.ttest_ind(X, Y).pvalue\n",
    "        \n",
    "    else:\n",
    "        model_X = sklearn_model\n",
    "        model_X.fit(Z, X)\n",
    "        X_hat = model_X.predict(Z)\n",
    "        model_Y = sklearn_model\n",
    "        model_X.fit(Z, X)\n",
    "        model_Y.fit(Z, Y)\n",
    "        Y_hat = model_Y.predict(Z)\n",
    "        X_res = X_hat - X\n",
    "        Y_res = Y_hat - Y\n",
    "        \n",
    "        return scipy.stats.ttest_ind(X_res, Y_res).pvalue\n",
    "    \n",
    "    \n",
    "def FCIT(X, Y, Z):\n",
    "    if Z.shape[1] == 0:\n",
    "        # unconditional independence test\n",
    "        return fcit.test(X, Y)\n",
    "    else:\n",
    "        return fcit.test(X, Y, Z)\n",
    "        \n",
    "        \n"
   ]
  },
  {
   "cell_type": "markdown",
   "metadata": {},
   "source": [
    "## Sandbox"
   ]
  },
  {
   "cell_type": "code",
   "execution_count": 49,
   "metadata": {},
   "outputs": [
    {
     "name": "stdout",
     "output_type": "stream",
     "text": [
      "Level order: 0\n",
      "Independence test between z1 and z2 conditioned on []: 0.9726919497172535\n",
      "Removed\n",
      "Independence test between z1 and z3 conditioned on []: 2.917936177841493e-11\n",
      "Independence test between z1 and w1 conditioned on []: 1.2509718995051971e-12\n",
      "Independence test between z1 and w2 conditioned on []: 0.9915497621297412\n",
      "Removed\n",
      "Independence test between z1 and w3 conditioned on []: 0.16054393979556633\n",
      "Independence test between z1 and x conditioned on []: 1.3065767692253771e-08\n",
      "Independence test between z1 and y conditioned on []: 0.001913843134644835\n",
      "Independence test between z2 and z3 conditioned on []: 0.892443565385828\n",
      "Removed\n",
      "Independence test between z2 and w1 conditioned on []: 0.879525461643998\n",
      "Removed\n",
      "Independence test between z2 and w2 conditioned on []: 0.9351208747490438\n",
      "Removed\n",
      "Independence test between z2 and w3 conditioned on []: 0.8316517949527542\n",
      "Removed\n",
      "Independence test between z2 and x conditioned on []: 2.0731662846527117e-06\n",
      "Independence test between z2 and y conditioned on []: 0.9336858049629738\n",
      "Removed\n",
      "Independence test between z3 and z1 conditioned on []: 6.486324350760355e-11\n",
      "Independence test between z3 and w1 conditioned on []: 5.213539631324639e-10\n",
      "Independence test between z3 and w2 conditioned on []: 0.174185080445362\n",
      "Independence test between z3 and w3 conditioned on []: 0.005365258408274573\n",
      "Independence test between z3 and x conditioned on []: 5.85758062156594e-09\n",
      "Independence test between z3 and y conditioned on []: 0.0002949807521369309\n",
      "Independence test between w1 and z1 conditioned on []: 5.701782044208085e-13\n",
      "Independence test between w1 and z3 conditioned on []: 6.511910627683493e-10\n",
      "Independence test between w1 and w2 conditioned on []: 0.907537644989887\n",
      "Removed\n",
      "Independence test between w1 and w3 conditioned on []: 0.4734527822236075\n",
      "Independence test between w1 and x conditioned on []: 6.116699780329309e-08\n",
      "Independence test between w1 and y conditioned on []: 0.04343167972019784\n",
      "Independence test between w2 and z3 conditioned on []: 0.11586542520910204\n",
      "Independence test between w2 and w3 conditioned on []: 0.14325698031084033\n",
      "Independence test between w2 and x conditioned on []: 0.005038923945604783\n",
      "Independence test between w2 and y conditioned on []: 0.044567438454573574\n",
      "Independence test between w3 and z1 conditioned on []: 0.987394073880248\n",
      "Removed\n",
      "Independence test between w3 and z3 conditioned on []: 0.9821728678863165\n",
      "Removed\n",
      "Independence test between w3 and w1 conditioned on []: 0.8814264782625769\n",
      "Removed\n",
      "Independence test between w3 and w2 conditioned on []: 0.9650300681405531\n",
      "Removed\n",
      "Independence test between w3 and x conditioned on []: 3.5466480769138336e-05\n",
      "Independence test between w3 and y conditioned on []: 0.46916503120640274\n",
      "Independence test between x and z1 conditioned on []: 0.9999799589757413\n",
      "Removed\n",
      "Independence test between x and z2 conditioned on []: 2.58293161765955e-07\n",
      "Independence test between x and z3 conditioned on []: 0.99909300945466\n",
      "Removed\n",
      "Independence test between x and w1 conditioned on []: 0.9991907742208039\n",
      "Removed\n",
      "Independence test between x and w2 conditioned on []: 0.9855810642915686\n",
      "Removed\n",
      "Independence test between x and w3 conditioned on []: 0.048857689582372445\n",
      "Independence test between x and y conditioned on []: 0.734628922343473\n",
      "Independence test between y and z1 conditioned on []: 2.7077142743157443e-12\n",
      "Independence test between y and z3 conditioned on []: 2.6578941160002495e-13\n",
      "Independence test between y and w1 conditioned on []: 8.357195406410886e-11\n",
      "Independence test between y and w2 conditioned on []: 0.16897989146081974\n",
      "Independence test between y and w3 conditioned on []: 0.14155990781132383\n",
      "Independence test between y and x conditioned on []: 6.387258976538142e-10\n",
      "Level order: 1\n",
      "Independence test between z1 and z3 conditioned on ['w1']: 2.9118363834434755e-10\n",
      "Independence test between z1 and z3 conditioned on ['y']: 7.548010033242401e-08\n",
      "Independence test between z1 and w1 conditioned on ['z3']: 3.1604383968322835e-13\n",
      "Independence test between z1 and w1 conditioned on ['y']: 3.397350982365649e-12\n",
      "Independence test between z1 and y conditioned on ['z3']: 0.8246916685898963\n",
      "Removed\n",
      "Independence test between z3 and z1 conditioned on ['w1']: 5.004479850394937e-10\n",
      "Independence test between z3 and z1 conditioned on ['w2']: 5.203765854733315e-11\n",
      "Independence test between z3 and z1 conditioned on ['y']: 2.94879745382437e-08\n",
      "Independence test between z3 and w1 conditioned on ['z1']: 0.8769228448183716\n",
      "Removed\n",
      "Independence test between z3 and w2 conditioned on ['z1']: 0.12248072597326601\n",
      "Independence test between z3 and w2 conditioned on ['y']: 0.06367250576048344\n",
      "Independence test between z3 and y conditioned on ['z1']: 0.01168636548866286\n",
      "Independence test between z3 and y conditioned on ['w2']: 0.8707751837952332\n",
      "Removed\n",
      "Independence test between w1 and z1 conditioned on ['y']: 4.242676589865373e-13\n",
      "Independence test between w1 and y conditioned on ['z1']: 0.7718233755274199\n",
      "Independence test between w2 and z3 conditioned on ['y']: 8.100666241967301e-10\n",
      "Independence test between w2 and y conditioned on ['z3']: 0.08406441557488682\n",
      "Independence test between w3 and x conditioned on ['y']: 8.231738173612762e-11\n",
      "Independence test between w3 and y conditioned on ['x']: 0.931399554851693\n",
      "Removed\n",
      "Independence test between x and z2 conditioned on ['w3']: 0.005674064240237301\n",
      "Independence test between x and z2 conditioned on ['y']: 4.1089884279141304e-05\n",
      "Independence test between x and w3 conditioned on ['z2']: 0.0630355700536579\n",
      "Independence test between x and w3 conditioned on ['y']: 0.057261380083514724\n",
      "Independence test between x and y conditioned on ['z2']: 0.06254684807527211\n",
      "Independence test between x and y conditioned on ['w3']: 0.47144018193530285\n",
      "Independence test between y and w1 conditioned on ['w2']: 2.8031609358623533e-12\n",
      "Independence test between y and w1 conditioned on ['x']: 2.1106290260036404e-15\n",
      "Independence test between y and w2 conditioned on ['w1']: 0.9929283525405911\n",
      "Removed\n",
      "Independence test between y and x conditioned on ['w1']: 3.2744239145273624e-09\n",
      "Level order: 2\n",
      "Independence test between x and z2 conditioned on ['w3', 'y']: 0.23666356909487224\n",
      "Independence test between x and w3 conditioned on ['z2', 'y']: 0.01882186666684992\n",
      "Independence test between x and y conditioned on ['z2', 'w3']: 0.9161300836719315\n",
      "Removed\n",
      "Level order: 3\n"
     ]
    }
   ],
   "source": [
    "from sklearn.tree import DecisionTreeRegressor\n",
    "pc = pcalg(data, features)\n",
    "#pc._instantiate_fully_connected_graph()\n",
    "#pc.render_graph()\n",
    "if __name__ == '__main__':\n",
    "    pc.identify_skeleton(indep_test=FCIT, alpha=0.8)"
   ]
  },
  {
   "cell_type": "markdown",
   "metadata": {},
   "source": [
    "![Dag](img/dag-pearl.png)"
   ]
  },
  {
   "cell_type": "code",
   "execution_count": 50,
   "metadata": {},
   "outputs": [
    {
     "data": {
      "text/plain": [
       "array([[  8.,  12.],\n",
       "       [  9.,  11.],\n",
       "       [ 11.,   9.],\n",
       "       ..., \n",
       "       [  7.,  13.],\n",
       "       [  0.,  20.],\n",
       "       [  9.,  11.]])"
      ]
     },
     "execution_count": 50,
     "metadata": {},
     "output_type": "execute_result"
    }
   ],
   "source": [
    "import numpy as np\n",
    "from fcit import fcit\n",
    "\n",
    "# Generate some data such that x is indpendent of y given z.\n",
    "n_samples = 1000\n",
    "z = np.random.dirichlet(alpha=np.ones(2), size=n_samples)\n",
    "x = np.vstack([np.random.multinomial(20, p) for p in z]).astype(float)\n",
    "y = np.vstack([np.random.multinomial(20, p) for p in z]).astype(float)\n",
    "\n",
    "x\n"
   ]
  },
  {
   "cell_type": "code",
   "execution_count": null,
   "metadata": {
    "collapsed": true
   },
   "outputs": [],
   "source": [
    "fcit."
   ]
  },
  {
   "cell_type": "code",
   "execution_count": 50,
   "metadata": {},
   "outputs": [
    {
     "data": {
      "image/png": "[encoded data removed]",
      "text/plain": [
       "<matplotlib.figure.Figure at 0x106024400>"
      ]
     },
     "metadata": {},
     "output_type": "display_data"
    }
   ],
   "source": [
    "pc.render_graph()"
   ]
  },
  {
   "cell_type": "code",
   "execution_count": 1,
   "metadata": {
    "collapsed": true
   },
   "outputs": [],
   "source": [
    "import numpy as np\n",
    "from fcit import fcit\n",
    "\n",
    "x = np.random.rand(1000, 1)\n",
    "y = np.random.randn(1000, 1)\n",
    "\n",
    "pval_i = fcit.test(x, y) # p-value should be uniform on [0, 1].\n",
    "pval_d = fcit.test(x, x + y) # p-value should be very small."
   ]
  },
  {
   "cell_type": "code",
   "execution_count": 7,
   "metadata": {
    "collapsed": true
   },
   "outputs": [],
   "source": [
    "pval_i = fcit.test(x, y) # p-value should be uniform on [0, 1].\n",
    "pval_d = fcit.test(x, x + y) # p-value should be very small."
   ]
  }
 ],
 "metadata": {
  "kernelspec": {
   "display_name": "venv",
   "language": "python",
   "name": "venv"
  },
  "language_info": {
   "codemirror_mode": {
    "name": "ipython",
    "version": 3
   },
   "file_extension": ".py",
   "mimetype": "text/x-python",
   "name": "python",
   "nbconvert_exporter": "python",
   "pygments_lexer": "ipython3",
   "version": "3.6.3"
  }
 },
 "nbformat": 4,
 "nbformat_minor": 2
}
