{
 "cells": [
  {
   "cell_type": "code",
   "execution_count": 8,
   "metadata": {},
   "outputs": [],
   "source": [
    "from IPython.display import Image"
   ]
  },
  {
   "cell_type": "markdown",
   "metadata": {},
   "source": [
    "## Generate dag and test out PCalg\n",
    "\n",
    "![Dag](img/dag-pearl.png)"
   ]
  },
  {
   "cell_type": "code",
   "execution_count": 6,
   "metadata": {
    "collapsed": true
   },
   "outputs": [],
   "source": [
    "import numpy as np \n",
    "import pandas as pd\n",
    "SAMPLE_SIZE = 10000\n",
    "\n",
    "z1 = np.random.normal(0, 1, SAMPLE_SIZE)\n",
    "z2 = np.random.uniform(0, 1, SAMPLE_SIZE)\n",
    "z3 = z1*z2 + np.random.normal(0, 1, SAMPLE_SIZE)\n",
    "\n",
    "w1 = z1**2 + np.random.normal(0, 1, SAMPLE_SIZE)\n",
    "w2 = 3 * z2 + np.random.standard_cauchy(SAMPLE_SIZE)\n",
    "\n",
    "x = w1 * z3 + np.random.lognormal(0, 1, SAMPLE_SIZE)\n",
    "w3 = x + x**3 + np.random.normal(0, 1, SAMPLE_SIZE)\n",
    "y = w3 * z3 + w2 + np.random.normal(0, 1, SAMPLE_SIZE)\n",
    "\n",
    "\n",
    "data = {'z1': z1, 'z2': z2, 'z3': z3,\n",
    "       'w1': w1, 'w2': w2, 'w3': w3,\n",
    "        'x': x, 'y': y}\n"
   ]
  }
 ],
 "metadata": {
  "kernelspec": {
   "display_name": "venv",
   "language": "python",
   "name": "venv"
  },
  "language_info": {
   "codemirror_mode": {
    "name": "ipython",
    "version": 3
   },
   "file_extension": ".py",
   "mimetype": "text/x-python",
   "name": "python",
   "nbconvert_exporter": "python",
   "pygments_lexer": "ipython3",
   "version": "3.6.3"
  }
 },
 "nbformat": 4,
 "nbformat_minor": 2
}
