{
 "cells": [
  {
   "cell_type": "code",
   "execution_count": 8,
   "metadata": {
    "collapsed": true
   },
   "outputs": [],
   "source": [
    "from IPython.display import Image"
   ]
  },
  {
   "cell_type": "markdown",
   "metadata": {},
   "source": [
    "## Generate dag and test out PCalg\n",
    "\n",
    "![Dag](img/dag-pearl.png)"
   ]
  },
  {
   "cell_type": "code",
   "execution_count": 6,
   "metadata": {
    "collapsed": true
   },
   "outputs": [],
   "source": [
    "import numpy as np \n",
    "import pandas as pd\n",
    "SAMPLE_SIZE = 10000\n",
    "\n",
    "z1 = np.random.normal(0, 1, SAMPLE_SIZE)\n",
    "z2 = np.random.uniform(0, 1, SAMPLE_SIZE)\n",
    "z3 = z1*z2 + np.random.normal(0, 1, SAMPLE_SIZE)\n",
    "\n",
    "w1 = z1**2 + np.random.normal(0, 1, SAMPLE_SIZE)\n",
    "w2 = 3 * z2 + np.random.standard_cauchy(SAMPLE_SIZE)\n",
    "\n",
    "x = w1 * z3 + np.random.lognormal(0, 1, SAMPLE_SIZE)\n",
    "w3 = x + x**3 + np.random.normal(0, 1, SAMPLE_SIZE)\n",
    "y = w3 * z3 + w2 + np.random.normal(0, 1, SAMPLE_SIZE)\n",
    "\n",
    "\n",
    "\n",
    "\n",
    "data = {'z1': z1, 'z2': z2, 'z3': z3,\n",
    "       'w1': w1, 'w2': w2, 'w3': w3,\n",
    "        'x': x, 'y': y}\n"
   ]
  },
  {
   "cell_type": "code",
   "execution_count": 72,
   "metadata": {},
   "outputs": [],
   "source": [
    "import sklearn\n",
    "import scipy\n",
    "import scipy.stats\n",
    "\n",
    "from sklearn import linear_model\n",
    "model = linear_model.LinearRegression()\n",
    "\n",
    "\n",
    "def resit(X, Y, Z, sklearn_model):\n",
    "    \"\"\" \n",
    "    Independently model X and Y as a\n",
    "    function of Z using models that follow\n",
    "    the sklearn fit and predict api.\n",
    "    \n",
    "    Predict both X and Y and retrieve residuals.\n",
    "    \n",
    "    Run unconditional independence test between\n",
    "    the residuals from the X model and the\n",
    "    residuals from the Y model.\n",
    "    \"\"\"\n",
    "    if  len(Z)==0:\n",
    "        # unconditional independence test\n",
    "        return scipy.stats.ttest_ind(X,Y).pvalue\n",
    "    else:\n",
    "        model_X = sklearn_model\n",
    "        model_X.fit(Z,X)\n",
    "        X_hat = model_X.predict(Z)\n",
    "        model_Y = sklearn_model\n",
    "        model_X.fit(Z,X)\n",
    "        model_Y.fit(Z,Y)     \n",
    "        Y_hat = model_Y.predict(Z)\n",
    "        X_res = X_hat - X\n",
    "        Y_res = Y_hat - Y\n",
    "        return scipy.stats.ttest_ind(X_res, Y_res).pvalue\n",
    "        "
   ]
  },
  {
   "cell_type": "code",
   "execution_count": 75,
   "metadata": {},
   "outputs": [
    {
     "ename": "NameError",
     "evalue": "name 'eerer' is not defined",
     "output_type": "error",
     "traceback": [
      "\u001b[0;31m---------------------------------------------------------------------------\u001b[0m",
      "\u001b[0;31mNameError\u001b[0m                                 Traceback (most recent call last)",
      "\u001b[0;32m<ipython-input-75-0aa720e5afbd>\u001b[0m in \u001b[0;36m<module>\u001b[0;34m()\u001b[0m\n\u001b[0;32m----> 1\u001b[0;31m \u001b[0mresit\u001b[0m\u001b[0;34m(\u001b[0m\u001b[0mz1\u001b[0m\u001b[0;34m,\u001b[0m \u001b[0mz2\u001b[0m\u001b[0;34m,\u001b[0m\u001b[0meerer\u001b[0m \u001b[0;32mor\u001b[0m \u001b[0;32mNone\u001b[0m\u001b[0;34m,\u001b[0m \u001b[0mmodel\u001b[0m\u001b[0;34m)\u001b[0m\u001b[0;34m\u001b[0m\u001b[0m\n\u001b[0m",
      "\u001b[0;31mNameError\u001b[0m: name 'eerer' is not defined"
     ]
    }
   ],
   "source": [
    "resit(z1, z2,eerer or None, model)"
   ]
  }
 ],
 "metadata": {
  "kernelspec": {
   "display_name": "venv",
   "language": "python",
   "name": "venv"
  },
  "language_info": {
   "codemirror_mode": {
    "name": "ipython",
    "version": 3
   },
   "file_extension": ".py",
   "mimetype": "text/x-python",
   "name": "python",
   "nbconvert_exporter": "python",
   "pygments_lexer": "ipython3",
   "version": "3.6.3"
  }
 },
 "nbformat": 4,
 "nbformat_minor": 2
}
