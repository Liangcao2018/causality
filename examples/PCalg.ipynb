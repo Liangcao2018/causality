{
 "cells": [
  {
   "cell_type": "markdown",
   "metadata": {},
   "source": [
    "# Utils"
   ]
  },
  {
   "cell_type": "code",
   "execution_count": 3,
   "metadata": {
    "collapsed": true
   },
   "outputs": [],
   "source": [
    "import numpy as np\n",
    "\n",
    "\n",
    "def check_dataset(dataset):\n",
    "    assert isinstance(dataset, np.ndarray),(\n",
    "        'Dataset must be a 2D numpy array')\n",
    "    assert dataset.shape[1] >= 2,(\n",
    "        'Need at leat 2 variables: shape is {}'.format(dataset.shape))\n",
    "    return dataset\n",
    "    \n",
    "\n",
    "def get_features(dataset, feature_names=None):\n",
    "    if feature_names:\n",
    "        len_condition = len(feature_names) == dataset.shape[1]\n",
    "        assert isinstance(feature_names, list) and len_condition,\\\n",
    "            \"number of elements in feature_names\\\n",
    "        and number of features in dataset do not match\"\n",
    "        return {k: v for k, v in enumerate(feature_names)}\n",
    "    return {k: v for k, v in enumerate(range(dataset.shape[1]))}\n"
   ]
  },
  {
   "cell_type": "markdown",
   "metadata": {},
   "source": [
    "# PCAlg"
   ]
  },
  {
   "cell_type": "code",
   "execution_count": 65,
   "metadata": {},
   "outputs": [],
   "source": [
    "import numpy as np\n",
    "#from .utils import check_dataset, get_features, trackcalls\n",
    "import networkx as nx\n",
    "from itertools import combinations, permutations\n",
    "from collections import defaultdict\n",
    "\n",
    "\n",
    "class pcalg():\n",
    "    \"\"\"\n",
    "    Peter Spirtes and Clark Glymour ALGorithm\n",
    "\n",
    "    input :\n",
    "    dataset =  N*M numpy array where N=sample\n",
    "            size and M=feature size\n",
    "\n",
    "    feature_names = dictionary where key = column\n",
    "                    position, value = column name.\n",
    "                    if no feature_names provided,\n",
    "                    key=value=column position\n",
    "\n",
    "    \"\"\"\n",
    "    \n",
    "    \n",
    "    def __init__(self, dataset, feature_names=None):\n",
    "        self.dataset = check_dataset(dataset)\n",
    "        self.dataset = dataset\n",
    "        self.features = get_features(dataset,\n",
    "                                     feature_names)\n",
    "        self.G = nx.Graph()\n",
    "\n",
    "        \n",
    "    def _instantiate_fully_connected_graph(self):\n",
    "        self.G.add_nodes_from(self.features.keys())\n",
    "        for x, y in combinations(self.features.keys(), 2):\n",
    "            self.G.add_edge(x, y)\n",
    "\n",
    "            \n",
    "    def identify_skeleton_original(self, indep_test, alpha=0.05):\n",
    "        \"\"\"\n",
    "        STEP 1 of PC algorighm\n",
    "        estimate skeleton graph from the data.\n",
    "        input :\n",
    "        indep_test = independence function\n",
    "\n",
    "        alpha = significance level for independence test\n",
    "\n",
    "        \"\"\"\n",
    "        self._instantiate_fully_connected_graph()\n",
    "        self.d_separators = {} # minimal set\n",
    "        level = 0\n",
    "        cont = True\n",
    "\n",
    "        while cont:\n",
    "            #neighbors = {k:list(self.G.neighbors(k)) for k in self.features.keys()}\n",
    "            print(\"Level order: {}\".format(level))\n",
    "            cont = False\n",
    "            # in the stable version,\n",
    "            # only update neighbors at each level\n",
    "            for x, y in permutations(self.features.keys(), 2):\n",
    "                x_neighbors = list(self.G.neighbors(x))\n",
    "                if y not in x_neighbors:\n",
    "                    continue\n",
    "                x_neighbors.remove(y)\n",
    "                if len(x_neighbors) >= level:\n",
    "                    cont = True\n",
    "                    for z in combinations(x_neighbors, level):                        \n",
    "                        pvalue = indep_test(self.dataset[:,x],\n",
    "                                            self.dataset[:,y],\n",
    "                                            self.dataset[:,z].reshape(self.dataset.shape[0], len(z)),\n",
    "                                            LinearRegression()\n",
    "                                           )\n",
    "                        print(\"\"\"Independence test between {} and {} conditioned on {}: {}\"\"\".format(\n",
    "                           self.features[x],self.features[y],[self.features[f] for f in z], pvalue))\n",
    "                        if pvalue < alpha:\n",
    "                            print('Removed')\n",
    "                            self.G.remove_edge(x, y)\n",
    "                            self.d_separators[(x, y)] = z\n",
    "                            self.d_separators[(y, x)] = z\n",
    "                            break                        \n",
    "            level += 1\n",
    "        return self    \n",
    "\n",
    "    \n",
    "    def orient_graph(self, indep_test, alpha):\n",
    "        \"\"\"\n",
    "        STEP 2 of the PC algorithm: edge orientation\n",
    "        \"\"\"\n",
    "        self.G = self.G.to_directed()\n",
    "\n",
    "        # STEP 1: IDENTIFYING UNSHIELDED COLLIDERS\n",
    "        # for each X and Y, only connected through\n",
    "        # a third variable (e.g. Z in X--Z--Y), test idenpendence\n",
    "        # between X and Y conditioned upon Z.\n",
    "        # If conditionally dependent, Z is an unshielded collider.\n",
    "        # Orient edges to point into Z (X->Z<-Y)\n",
    "        # Testing for conditional independence is not required when using\n",
    "        # the stable version of the PCALG(i.e. the SGS variant) because\n",
    "        # we already have all d-separators of order level 1 between X and Y\n",
    "        self.colliders = {}\n",
    "        for x, y in combinations(self.features.keys(), 2):\n",
    "            x_successors = self.G.successors(x)\n",
    "            if y in x_successors:\n",
    "                continue\n",
    "            y_successors = self.G.successors(y)\n",
    "            if x in y_successors:\n",
    "                continue\n",
    "            intersect = set(x_successors).intersection(set(y_successors))\n",
    "            for z in intersect:\n",
    "                if z in self.d_separators[(x, y)]:\n",
    "                    continue\n",
    "                if not self.stable:\n",
    "                    pvalue = indep_test(self.dataset[x],\n",
    "                                        self.dataset[y], self.dataset[z])\n",
    "                    if pvalue <= alpha:\n",
    "                        # x and y are conditionnaly dependent\n",
    "                        # so z is a collider.\n",
    "                        self.G.remove_edge(z, x)\n",
    "                        self.G.remove_edge(z, y)\n",
    "                        continue\n",
    "                else:\n",
    "                    self.G.remove_edge(z, x)\n",
    "                    self.G.remove_edge(z, y)\n",
    "\n",
    "        # STEP 2: PREVENT SPURIOUS UNSHIELDED COLLIDERS\n",
    "        # for each X Y Z such that\n",
    "        # X->Z--Y\n",
    "        # and where X and Y are not directly connected,\n",
    "        # orient the ZY edge to point into Y:\n",
    "        # X->Z->Y\n",
    "        # if  X->Z<-Y were true, Z would have been picked up\n",
    "        # as unshielded collider in STEP 1\n",
    "\n",
    "\n",
    "        #  STEP 3: PREVENT CYCLES\n",
    "        # If there is a pair of variables, X and Y connected \n",
    "        # both by an undirected edge and by a directed path,\n",
    "        # starting at X, through one or more other variables to Y,\n",
    "        # orient the undirected edge as X->Y\n",
    "\n",
    "    def render_graph(self):\n",
    "        render = nx.draw_networkx(G=self.G, labels=self.features)\n",
    "        return render\n",
    "\n",
    "    def save_class(self):\n",
    "        return\n"
   ]
  },
  {
   "cell_type": "markdown",
   "metadata": {},
   "source": [
    "## Independence Tests\n"
   ]
  },
  {
   "cell_type": "code",
   "execution_count": 61,
   "metadata": {
    "collapsed": true
   },
   "outputs": [],
   "source": [
    "import scipy\n",
    "import scipy.stats\n",
    "from fcit import fcit\n",
    "from sklearn.preprocessing import PolynomialFeatures\n",
    "from sklearn.linear_model import LinearRegression\n",
    "from sklearn.feature_selection import mutual_info_regression\n",
    "\n",
    "def resit(X, Y, Z, sklearn_model):\n",
    "    \"\"\"\n",
    "    Independently model X and Y as a\n",
    "    function of Z using models that follow\n",
    "    the sklearn fit and predict api.\n",
    "\n",
    "    Predict both X and Y and retrieve residuals.\n",
    "\n",
    "    Run unconditional independence test between\n",
    "    the residuals from the X model and the\n",
    "    residuals from the Y model.\n",
    "\n",
    "    http://jmlr.org/papers/volume15/peters14a/peters14a.pdf\n",
    "    \"\"\"\n",
    "    \n",
    "    if Z.shape[1] == 0:\n",
    "        # unconditional independence test\n",
    "        return mutual_info_regression(X.reshape(-1, 1), Y)\n",
    "        \n",
    "    else:\n",
    "        poly = PolynomialFeatures(Z.shape[1])\n",
    "        Z = poly.fit_transform(Z)\n",
    "        model_X = sklearn_model\n",
    "        model_X.fit(Z, X)\n",
    "        X_hat = model_X.predict(Z)\n",
    "        \n",
    "        model_Y = sklearn_model     \n",
    "        model_Y.fit(Z, Y)\n",
    "        Y_hat = model_Y.predict(Z)\n",
    "        return mutual_info_regression((X_hat - X).reshape(-1, 1), Y_hat - Y)\n",
    "\n",
    "    \n",
    "def FCIT(X, Y, Z):\n",
    "    if Z.shape[1] == 0:\n",
    "        # unconditional independence test\n",
    "        return fcit.test(X, Y)\n",
    "    else:\n",
    "        return fcit.test(X, Y, Z)\n",
    "    "
   ]
  },
  {
   "cell_type": "markdown",
   "metadata": {},
   "source": [
    "## Sandbox"
   ]
  },
  {
   "cell_type": "code",
   "execution_count": 5,
   "metadata": {
    "collapsed": true
   },
   "outputs": [],
   "source": [
    "%matplotlib inline\n",
    "from IPython.display import Image\n",
    "import matplotlib\n",
    "\n",
    "\n",
    "mutual_info_regression(x.reshape(-1, 1), y)"
   ]
  },
  {
   "cell_type": "markdown",
   "metadata": {},
   "source": [
    "## Generate DAG and test out PCalg\n",
    "\n",
    "![Dag](img/dag-pearl.png)"
   ]
  },
  {
   "cell_type": "code",
   "execution_count": 45,
   "metadata": {
    "collapsed": true
   },
   "outputs": [],
   "source": [
    "x = data[:,0].reshape(SAMPLE_SIZE, 1)\n",
    "y = data[:,1].reshape(SAMPLE_SIZE, 1)\n",
    "\n"
   ]
  },
  {
   "cell_type": "code",
   "execution_count": 6,
   "metadata": {
    "collapsed": true
   },
   "outputs": [],
   "source": [
    "import numpy as np\n",
    "from fcit import fcit\n",
    "\n",
    "import numpy as np \n",
    "import pandas as pd\n",
    "SAMPLE_SIZE = 100000\n",
    "\n",
    "z1 = np.random.normal(0, 1, SAMPLE_SIZE) #0\n",
    "z2 = np.random.uniform(0, 1, SAMPLE_SIZE) #1\n",
    "z3 = z1*z2 + np.random.normal(0, 1, SAMPLE_SIZE) #2\n",
    "\n",
    "w1 = z1 + np.random.normal(0, 1, SAMPLE_SIZE) #3\n",
    "w2 = 3 ** z2 + np.random.standard_cauchy(SAMPLE_SIZE) #4\n",
    "\n",
    "x = w1 * z3 + np.random.lognormal(0, 1, SAMPLE_SIZE) #6\n",
    "w3 = x + x**3 + np.random.normal(0, 1, SAMPLE_SIZE) #5\n",
    "y = w3 * z3 + w2 + np.random.normal(0, 1, SAMPLE_SIZE) #7\n",
    "\n",
    "\n",
    "features = ['z1', 'z2', 'z3',\n",
    "       'w1', 'w2', 'w3',\n",
    "        'x', 'y']\n",
    "\n",
    "data = np.stack([z1,z2,z3,w1,w2,w3,x,y], axis=1)\n"
   ]
  },
  {
   "cell_type": "code",
   "execution_count": 66,
   "metadata": {
    "scrolled": false
   },
   "outputs": [
    {
     "name": "stdout",
     "output_type": "stream",
     "text": [
      "Level order: 0\n",
      "Independence test between z1 and z2 conditioned on []: [0]\n",
      "Removed\n",
      "Independence test between z1 and z3 conditioned on []: [ 0.10422001]\n",
      "Independence test between z1 and w1 conditioned on []: [ 0.35083087]\n",
      "Independence test between z1 and w2 conditioned on []: [0]\n",
      "Removed\n",
      "Independence test between z1 and w3 conditioned on []: [ 0.03715973]\n",
      "Removed\n",
      "Independence test between z1 and x conditioned on []: [ 0.04020198]\n",
      "Removed\n",
      "Independence test between z1 and y conditioned on []: [ 0.15279695]\n",
      "Independence test between z2 and z3 conditioned on []: [ 0.01002225]\n",
      "Removed\n",
      "Independence test between z2 and w1 conditioned on []: [ 0.00211688]\n",
      "Removed\n",
      "Independence test between z2 and w2 conditioned on []: [ 0.06693033]\n",
      "Independence test between z2 and w3 conditioned on []: [ 0.00489828]\n",
      "Removed\n",
      "Independence test between z2 and x conditioned on []: [ 0.00796517]\n",
      "Removed\n",
      "Independence test between z2 and y conditioned on []: [ 0.01442191]\n",
      "Removed\n",
      "Independence test between z3 and z1 conditioned on []: [ 0.10422006]\n",
      "Independence test between z3 and w1 conditioned on []: [ 0.05272619]\n",
      "Independence test between z3 and w2 conditioned on []: [ 0.00130457]\n",
      "Removed\n",
      "Independence test between z3 and w3 conditioned on []: [ 0.09137685]\n",
      "Independence test between z3 and x conditioned on []: [ 0.13565357]\n",
      "Independence test between z3 and y conditioned on []: [ 0.38890954]\n",
      "Independence test between w1 and z1 conditioned on []: [ 0.35083085]\n",
      "Independence test between w1 and z3 conditioned on []: [ 0.05272619]\n",
      "Independence test between w1 and w2 conditioned on []: [ 0.00128216]\n",
      "Removed\n",
      "Independence test between w1 and w3 conditioned on []: [ 0.08677973]\n",
      "Independence test between w1 and x conditioned on []: [ 0.12886544]\n",
      "Independence test between w1 and y conditioned on []: [ 0.19121706]\n",
      "Independence test between w2 and z2 conditioned on []: [ 0.06693031]\n",
      "Independence test between w2 and w3 conditioned on []: [0]\n",
      "Removed\n",
      "Independence test between w2 and x conditioned on []: [ 0.00013114]\n",
      "Removed\n",
      "Independence test between w2 and y conditioned on []: [ 0.27128069]\n",
      "Independence test between w3 and z3 conditioned on []: [ 0.0913768]\n",
      "Independence test between w3 and w1 conditioned on []: [ 0.08677781]\n",
      "Independence test between w3 and x conditioned on []: [ 3.03616466]\n",
      "Independence test between w3 and y conditioned on []: [ 0.76882972]\n",
      "Independence test between x and z3 conditioned on []: [ 0.13565362]\n",
      "Independence test between x and w1 conditioned on []: [ 0.1288654]\n",
      "Independence test between x and w3 conditioned on []: [ 3.03616642]\n",
      "Independence test between x and y conditioned on []: [ 0.75501172]\n",
      "Independence test between y and z1 conditioned on []: [ 0.15279631]\n",
      "Independence test between y and z3 conditioned on []: [ 0.38890956]\n",
      "Independence test between y and w1 conditioned on []: [ 0.19121782]\n",
      "Independence test between y and w2 conditioned on []: [ 0.27128009]\n",
      "Independence test between y and w3 conditioned on []: [ 0.7688298]\n",
      "Independence test between y and x conditioned on []: [ 0.75501178]\n",
      "Level order: 1\n",
      "Independence test between z1 and z3 conditioned on ['w1']: [ 0.05471715]\n",
      "Independence test between z1 and z3 conditioned on ['y']: [ 0.10191714]\n",
      "Independence test between z1 and w1 conditioned on ['z3']: [ 0.2987627]\n",
      "Independence test between z1 and w1 conditioned on ['y']: [ 0.34691566]\n",
      "Independence test between z1 and y conditioned on ['z3']: [ 0.0193221]\n",
      "Removed\n",
      "Independence test between z3 and z1 conditioned on ['w1']: [ 0.05471715]\n",
      "Independence test between z3 and z1 conditioned on ['w3']: [ 0.10409246]\n",
      "Independence test between z3 and z1 conditioned on ['x']: [ 0.10525423]\n",
      "Independence test between z3 and z1 conditioned on ['y']: [ 0.10191714]\n",
      "Independence test between z3 and w1 conditioned on ['z1']: [0]\n",
      "Removed\n",
      "Independence test between z3 and w3 conditioned on ['z1']: [ 0.04724414]\n",
      "Removed\n",
      "Independence test between z3 and x conditioned on ['z1']: [ 0.09557964]\n",
      "Independence test between z3 and x conditioned on ['y']: [ 0.1327668]\n",
      "Independence test between z3 and y conditioned on ['z1']: [ 0.07156169]\n",
      "Independence test between z3 and y conditioned on ['x']: [ 0.20201555]\n",
      "Independence test between w1 and z1 conditioned on ['w3']: [ 0.35037942]\n",
      "Independence test between w1 and z1 conditioned on ['x']: [ 0.34797584]\n",
      "Independence test between w1 and z1 conditioned on ['y']: [ 0.34691566]\n",
      "Independence test between w1 and w3 conditioned on ['z1']: [ 0.01040186]\n",
      "Removed\n",
      "Independence test between w1 and x conditioned on ['z1']: [ 0.02402431]\n",
      "Removed\n",
      "Independence test between w1 and y conditioned on ['z1']: [ 0.01427422]\n",
      "Removed\n",
      "Independence test between w2 and z2 conditioned on ['y']: [ 0.06075515]\n",
      "Independence test between w2 and y conditioned on ['z2']: [ 0.12450192]\n",
      "Independence test between w3 and x conditioned on ['y']: [ 0.77465927]\n",
      "Independence test between w3 and y conditioned on ['x']: [ 3.12963899]\n",
      "Independence test between x and z3 conditioned on ['w3']: [ 0.13566395]\n",
      "Independence test between x and z3 conditioned on ['y']: [ 0.13276676]\n",
      "Independence test between x and w3 conditioned on ['z3']: [ 1.19103577]\n",
      "Independence test between x and w3 conditioned on ['y']: [ 0.77465895]\n",
      "Independence test between x and y conditioned on ['z3']: [ 0.22687834]\n",
      "Independence test between x and y conditioned on ['w3']: [ 0.76657514]\n",
      "Independence test between y and z3 conditioned on ['w2']: [ 0.51728898]\n",
      "Independence test between y and z3 conditioned on ['w3']: [ 0.37040736]\n",
      "Independence test between y and z3 conditioned on ['x']: [ 0.20201562]\n",
      "Independence test between y and w2 conditioned on ['z3']: [ 0.02077171]\n",
      "Removed\n",
      "Independence test between y and w3 conditioned on ['z3']: [ 0.87307704]\n",
      "Independence test between y and w3 conditioned on ['x']: [ 3.12963875]\n",
      "Independence test between y and x conditioned on ['z3']: [ 0.22687834]\n",
      "Independence test between y and x conditioned on ['w3']: [ 0.76657539]\n",
      "Level order: 2\n",
      "Independence test between z3 and z1 conditioned on ['x', 'y']: [ 0.08824109]\n",
      "Independence test between z3 and x conditioned on ['z1', 'y']: [ 0.11118166]\n",
      "Independence test between z3 and y conditioned on ['z1', 'x']: [ 0.06125394]\n",
      "Independence test between x and z3 conditioned on ['w3', 'y']: [ 0.13403993]\n",
      "Independence test between x and w3 conditioned on ['z3', 'y']: [ 0.62543368]\n",
      "Independence test between x and y conditioned on ['z3', 'w3']: [ 0.00475362]\n",
      "Removed\n",
      "Level order: 3\n"
     ]
    },
    {
     "data": {
      "text/plain": [
       "<__main__.pcalg at 0x1a22c6a7b8>"
      ]
     },
     "execution_count": 66,
     "metadata": {},
     "output_type": "execute_result"
    }
   ],
   "source": [
    "pc = pcalg(dataset=data, feature_names=features)\n",
    "pc.identify_skeleton_original(indep_test=resit)"
   ]
  },
  {
   "cell_type": "code",
   "execution_count": 67,
   "metadata": {
    "scrolled": false
   },
   "outputs": [
    {
     "data": {
      "image/png": "[encoded data removed]",
      "text/plain": [
       "<matplotlib.figure.Figure at 0x1a1970d5f8>"
      ]
     },
     "metadata": {},
     "output_type": "display_data"
    }
   ],
   "source": [
    "pc.render_graph()"
   ]
  },
  {
   "cell_type": "markdown",
   "metadata": {},
   "source": [
    "## Generate DAG and test out PCalg\n",
    "\n",
    "![Dag](img/dag-pearl.png)"
   ]
  },
  {
   "cell_type": "code",
   "execution_count": 41,
   "metadata": {},
   "outputs": [
    {
     "data": {
      "text/plain": [
       "array([ 0.7550113])"
      ]
     },
     "execution_count": 41,
     "metadata": {},
     "output_type": "execute_result"
    }
   ],
   "source": []
  },
  {
   "cell_type": "code",
   "execution_count": 33,
   "metadata": {},
   "outputs": [
    {
     "data": {
      "text/plain": [
       "var1  var2\n",
       "0     1       2\n",
       "      2       2\n",
       "1     0       1\n",
       "dtype: int64"
      ]
     },
     "execution_count": 33,
     "metadata": {},
     "output_type": "execute_result"
    }
   ],
   "source": [
    "                        pvalue = indep_test(self.dataset[:,x].reshape(self.dataset.shape[0], 1),\n",
    "                                            self.dataset[:,y].reshape(self.dataset.shape[0], 1),\n",
    "                                            self.dataset[:,z].reshape(self.dataset.shape[0], len(z)),\n",
    "                                            LinearRegression()\n",
    "                                           )\n",
    "                        "
   ]
  }
 ],
 "metadata": {
  "kernelspec": {
   "display_name": "venv",
   "language": "python",
   "name": "venv"
  },
  "language_info": {
   "codemirror_mode": {
    "name": "ipython",
    "version": 3
   },
   "file_extension": ".py",
   "mimetype": "text/x-python",
   "name": "python",
   "nbconvert_exporter": "python",
   "pygments_lexer": "ipython3",
   "version": "3.6.3"
  }
 },
 "nbformat": 4,
 "nbformat_minor": 2
}
